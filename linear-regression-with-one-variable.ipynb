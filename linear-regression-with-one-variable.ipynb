{
 "cells": [
  {
   "cell_type": "code",
   "execution_count": 1,
   "metadata": {},
   "outputs": [],
   "source": [
    "#importing all pachage will be needed during assignment\n",
    "import numpy as np\n",
    "# Plotting library\n",
    "from matplotlib import pyplot\n",
    "from mpl_toolkits.mplot3d import Axes3D  # needed to plot 3-D surfaces\n",
    "from tkinter import filedialog\n",
    "from tkinter import *\n",
    "import pandas as pd"
   ]
  },
  {
   "cell_type": "code",
   "execution_count": 2,
   "metadata": {},
   "outputs": [],
   "source": [
    "root = Tk()\n",
    "root.filename =  filedialog.askopenfilename(initialdir = \"/\",title = \"Select file\")"
   ]
  },
  {
   "cell_type": "code",
   "execution_count": 3,
   "metadata": {},
   "outputs": [],
   "source": [
    "def get_training_data(file_path):\n",
    "    columns_name=['input','output']\n",
    "    data=pd.read_table(file_path,sep=',',names=columns_name)\n",
    "    Y_data=data['output'].values.reshape(-1,1)\n",
    "    X_data=data['input'].values.reshape(-1,1)\n",
    "    return X_data,Y_data"
   ]
  },
  {
   "cell_type": "code",
   "execution_count": 4,
   "metadata": {},
   "outputs": [
    {
     "name": "stdout",
     "output_type": "stream",
     "text": [
      "expected output 6.1101\n",
      "                17.592\n"
     ]
    }
   ],
   "source": [
    "#test\n",
    "X,Y = get_training_data(root.filename)\n",
    "assert X.shape == (97,1)\n",
    "assert Y.shape == (97,1)\n",
    "print(\"expected output \"+str(X[0][0]))\n",
    "print(\"                \"+str(Y[0][0]))"
   ]
  },
  {
   "cell_type": "markdown",
   "metadata": {},
   "source": [
    "expected output 6.1101\n",
    "                17.592"
   ]
  },
  {
   "cell_type": "code",
   "execution_count": 32,
   "metadata": {},
   "outputs": [],
   "source": [
    "def plot_data(X_data,Y_data,parameters=None,plot_line=False):\n",
    "    pyplot.ylabel('Output')\n",
    "    pyplot.xlabel('Input')\n",
    "    pyplot.plot(X_data, Y_data, 'ro', ms=10, mec='k')\n",
    "    if plot_line==True:\n",
    "        w=parameters[\"w\"]\n",
    "        b=parameters[\"b\"]\n",
    "        pyplot.plot(X_data,w*X_data+b, '-')\n",
    "        pass"
   ]
  },
  {
   "cell_type": "code",
   "execution_count": 6,
   "metadata": {},
   "outputs": [
    {
     "data": {
      "image/png": "[encoded data removed]",
      "text/plain": [
       "<Figure size 432x288 with 1 Axes>"
      ]
     },
     "metadata": {
      "needs_background": "light"
     },
     "output_type": "display_data"
    }
   ],
   "source": [
    "plot_data(X,Y)"
   ]
  },
  {
   "cell_type": "code",
   "execution_count": 7,
   "metadata": {},
   "outputs": [],
   "source": [
    "def initial_parameters():\n",
    "    w=np.zeros((1,1))\n",
    "    b=np.zeros((1,1))\n",
    "    parameters = {\"w\":w,\n",
    "                  \"b\":b}\n",
    "    return parameters"
   ]
  },
  {
   "cell_type": "code",
   "execution_count": 8,
   "metadata": {},
   "outputs": [
    {
     "name": "stdout",
     "output_type": "stream",
     "text": [
      "[[0.]]\n"
     ]
    }
   ],
   "source": [
    "#test\n",
    "par=initial_parameters()\n",
    "assert par[\"w\"].shape == (1,1)\n",
    "print(par[\"w\"])"
   ]
  },
  {
   "cell_type": "markdown",
   "metadata": {},
   "source": [
    "expected_output **[[0.]]**"
   ]
  },
  {
   "cell_type": "code",
   "execution_count": 44,
   "metadata": {},
   "outputs": [],
   "source": [
    "def compute_cost(X,Y,parameters):\n",
    "    w=parameters[\"w\"]\n",
    "    b=parameters[\"b\"]\n",
    "    Y_hat=w*X+b\n",
    "    m=X.shape[0]\n",
    "    cost=float(np.sum((Y_hat-Y)**2,axis=0,keepdims=True)/(2*m))\n",
    "    return cost"
   ]
  },
  {
   "cell_type": "code",
   "execution_count": 45,
   "metadata": {},
   "outputs": [
    {
     "name": "stdout",
     "output_type": "stream",
     "text": [
      "100.1643148758268\n"
     ]
    }
   ],
   "source": [
    "#test\n",
    "cost=compute_cost(X,Y,{\"w\":2,\"b\":3})\n",
    "print(cost)"
   ]
  },
  {
   "cell_type": "markdown",
   "metadata": {},
   "source": [
    "**100.16431488**"
   ]
  },
  {
   "cell_type": "code",
   "execution_count": 46,
   "metadata": {},
   "outputs": [],
   "source": [
    "def update_parameters(X,Y,parameters,learning_rate):\n",
    "    w=parameters[\"w\"]\n",
    "    b=parameters[\"b\"]\n",
    "    Y_hat=w*X+b\n",
    "    m=X.shape[0]\n",
    "    dw=np.sum((Y_hat-Y)*X,axis=0,keepdims=True)/(m)\n",
    "    db=np.sum((Y_hat-Y),axis=0,keepdims=True)/(m)\n",
    "    w=w-learning_rate*dw\n",
    "    b=b-learning_rate*db\n",
    "    parameters = {\"w\":w,\n",
    "                  \"b\":b}\n",
    "    return parameters"
   ]
  },
  {
   "cell_type": "code",
   "execution_count": 47,
   "metadata": {},
   "outputs": [
    {
     "name": "stdout",
     "output_type": "stream",
     "text": [
      "dict_values([array([[0.78041564]]), array([[2.86519535]])])\n"
     ]
    }
   ],
   "source": [
    "#test\n",
    "par=update_parameters(X,Y,{\"w\":2,\"b\":3},.01)\n",
    "print(par.values())"
   ]
  },
  {
   "cell_type": "markdown",
   "metadata": {},
   "source": [
    "**dict_values([array([[0.78041564]]), array([[2.86519535]])])**"
   ]
  },
  {
   "cell_type": "code",
   "execution_count": 66,
   "metadata": {},
   "outputs": [],
   "source": [
    "#cost history is a list contain cost every 100 iteration\n",
    "def linear_regression_one_variable(data_file,learning_rate=.01,iteration=1500,print_cost=False):\n",
    "    X,Y=get_training_data(data_file)\n",
    "    parameters=initial_parameters()\n",
    "    cost_history=[]\n",
    "    for i in range(0,iteration+1):\n",
    "        parameters=update_parameters(X,Y,parameters,learning_rate)\n",
    "        if print_cost and i % 100 == 0:\n",
    "            cost=compute_cost(X,Y,parameters)\n",
    "            cost_history.append(cost)\n",
    "            print (\"Cost after iteration %i: %f\" %(i, cost))\n",
    "    return parameters,cost_history"
   ]
  },
  {
   "cell_type": "code",
   "execution_count": 67,
   "metadata": {},
   "outputs": [
    {
     "name": "stdout",
     "output_type": "stream",
     "text": [
      "Cost after iteration 0: 6.737190\n",
      "Cost after iteration 100: 5.476363\n",
      "Cost after iteration 200: 5.173635\n",
      "Cost after iteration 300: 4.962606\n",
      "Cost after iteration 400: 4.815501\n",
      "Cost after iteration 500: 4.712956\n",
      "Cost after iteration 600: 4.641474\n",
      "Cost after iteration 700: 4.591644\n",
      "Cost after iteration 800: 4.556908\n",
      "Cost after iteration 900: 4.532694\n",
      "Cost after iteration 1000: 4.515815\n",
      "Cost after iteration 1100: 4.504049\n",
      "Cost after iteration 1200: 4.495847\n",
      "Cost after iteration 1300: 4.490129\n",
      "Cost after iteration 1400: 4.486143\n",
      "Cost after iteration 1500: 4.483365\n",
      "Cost after iteration 1600: 4.481428\n",
      "Cost after iteration 1700: 4.480078\n",
      "Cost after iteration 1800: 4.479137\n",
      "Cost after iteration 1900: 4.478481\n",
      "Cost after iteration 2000: 4.478024\n"
     ]
    }
   ],
   "source": [
    "#test\n",
    "parameters,cost_history=linear_regression_one_variable(root.filename,learning_rate=.01,iteration=2000,print_cost=True)"
   ]
  },
  {
   "cell_type": "markdown",
   "metadata": {},
   "source": [
    "- Cost after iteration 0: 6.737190\n",
    "- Cost after iteration 100: 5.476363\n",
    "- Cost after iteration 200: 5.173635\n",
    "- Cost after iteration 300: 4.962606\n",
    "- Cost after iteration 400: 4.815501"
   ]
  },
  {
   "cell_type": "code",
   "execution_count": 68,
   "metadata": {},
   "outputs": [
    {
     "data": {
      "image/png": "[encoded data removed]",
      "text/plain": [
       "<Figure size 432x288 with 1 Axes>"
      ]
     },
     "metadata": {
      "needs_background": "light"
     },
     "output_type": "display_data"
    }
   ],
   "source": [
    "plot_data(X,Y,parameters=parameters,plot_line=True)"
   ]
  },
  {
   "cell_type": "code",
   "execution_count": 71,
   "metadata": {},
   "outputs": [
    {
     "data": {
      "text/plain": [
       "[<matplotlib.lines.Line2D at 0x265d36f4048>]"
      ]
     },
     "execution_count": 71,
     "metadata": {},
     "output_type": "execute_result"
    },
    {
     "data": {
      "image/png": "[encoded data removed]",
      "text/plain": [
       "<Figure size 432x288 with 1 Axes>"
      ]
     },
     "metadata": {
      "needs_background": "light"
     },
     "output_type": "display_data"
    }
   ],
   "source": [
    "pyplot.plot([x for x in range(0,2001,100)],cost_history, '-')"
   ]
  },
  {
   "cell_type": "code",
   "execution_count": 52,
   "metadata": {},
   "outputs": [],
   "source": [
    "def predict (x,parameters):\n",
    "    \n",
    "    \n",
    "    \n",
    "    \n",
    "    return y"
   ]
  },
  {
   "cell_type": "code",
   "execution_count": null,
   "metadata": {},
   "outputs": [],
   "source": []
  }
 ],
 "metadata": {
  "kernelspec": {
   "display_name": "Python 3",
   "language": "python",
   "name": "python3"
  },
  "language_info": {
   "codemirror_mode": {
    "name": "ipython",
    "version": 3
   },
   "file_extension": ".py",
   "mimetype": "text/x-python",
   "name": "python",
   "nbconvert_exporter": "python",
   "pygments_lexer": "ipython3",
   "version": "3.7.1"
  }
 },
 "nbformat": 4,
 "nbformat_minor": 2
}
